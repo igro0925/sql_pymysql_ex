{
 "cells": [
  {
   "cell_type": "markdown",
   "id": "d95bcd44",
   "metadata": {},
   "source": [
    "# pymysql 실습"
   ]
  },
  {
   "cell_type": "markdown",
   "id": "24a4ca15",
   "metadata": {
    "vscode": {
     "languageId": "plaintext"
    }
   },
   "source": [
    "- pip install pymysql"
   ]
  },
  {
   "cell_type": "code",
   "execution_count": 1,
   "id": "8dae6fda",
   "metadata": {},
   "outputs": [],
   "source": [
    "import pymysql "
   ]
  },
  {
   "cell_type": "markdown",
   "id": "0149cbe2",
   "metadata": {},
   "source": [
    "# 1. DB연결\n",
    "- id, pw, host, port, db"
   ]
  },
  {
   "cell_type": "code",
   "execution_count": null,
   "id": "86173a61",
   "metadata": {},
   "outputs": [],
   "source": [
    "# 127.0.0.1 = localhost\n",
    "# user는 개발자가 보통 root이다.\n",
    "conn = pymysql.connect(\n",
    "    host = '127.0.0.1',\n",
    "    port = 3306,\n",
    "    user = 'igro',\n",
    "    password = '1234',\n",
    "    db = 'csm_db',\n",
    "    charset='utf8'\n",
    ")"
   ]
  },
  {
   "cell_type": "markdown",
   "id": "f2a1cad9",
   "metadata": {},
   "source": [
    "# 2.DB cursor 생성\n",
    "- 데이터 셔틀버스와 같음"
   ]
  },
  {
   "cell_type": "code",
   "execution_count": null,
   "id": "84698967",
   "metadata": {},
   "outputs": [],
   "source": [
    "# 커서 객체 생성\n",
    "cur = conn.cursor()"
   ]
  },
  {
   "cell_type": "code",
   "execution_count": 39,
   "id": "d5601c32",
   "metadata": {},
   "outputs": [
    {
     "data": {
      "text/plain": [
       "0"
      ]
     },
     "execution_count": 39,
     "metadata": {},
     "output_type": "execute_result"
    }
   ],
   "source": [
    "# item 테이블이 존재하면 삭제\n",
    "cur.execute(\"drop table if exists items\")"
   ]
  },
  {
   "cell_type": "markdown",
   "id": "1212330c",
   "metadata": {},
   "source": [
    "# 3. sql 명령 실행"
   ]
  },
  {
   "cell_type": "code",
   "execution_count": 40,
   "id": "089c36da",
   "metadata": {},
   "outputs": [],
   "source": [
    "# items 테이블 만들기 : 테이블이 존재하지 않으면 생성\n",
    "CREATE_SQL =\"\"\"\n",
    "CREATE TABLE IF NOT EXISTS items(\n",
    "    id integer primary key auto_increment,\n",
    "    code text not null,\n",
    "    name text not null,\n",
    "    price integer null\n",
    ")\n",
    "\n",
    "\"\"\"\n",
    "cur.execute(CREATE_SQL);"
   ]
  },
  {
   "cell_type": "code",
   "execution_count": null,
   "id": "73eca149",
   "metadata": {},
   "outputs": [],
   "source": [
    "create_sql = \"\"\"\n",
    "CREATE TABLE IF NOT EXISTS items(\n",
    "    id INTEGER PRIMARY KET AUTO_INCREMENT,\n",
    "    code TEXT NOT NULL,\n",
    "    name TEXT NOT NULL,\n",
    "    price INTEGER NULL\n",
    ")\n",
    "\"\"\"\n",
    "cur.execute(create_sql);"
   ]
  },
  {
   "cell_type": "markdown",
   "id": "9bbe1d7a",
   "metadata": {},
   "source": [
    "## 데이터 입력 (Create)"
   ]
  },
  {
   "cell_type": "code",
   "execution_count": 41,
   "id": "567ad159",
   "metadata": {},
   "outputs": [
    {
     "data": {
      "text/plain": [
       "1"
      ]
     },
     "execution_count": 41,
     "metadata": {},
     "output_type": "execute_result"
    }
   ],
   "source": [
    "# 레코드 1개 테이블에 추가하기\n",
    "insert_sql = \"\"\"\n",
    "INSERT INTO items(code, name, price)\n",
    "    VALUES(%s, %s, %s);\n",
    "\"\"\"\n",
    "cur.execute(insert_sql, ('A001', 'TV', 1000000))"
   ]
  },
  {
   "cell_type": "code",
   "execution_count": 44,
   "id": "a5c2c4ba",
   "metadata": {},
   "outputs": [],
   "source": [
    "# 변경 사항 저장, 반드시 실행해야만 테이블에 반영됨.\n",
    "conn.commit()"
   ]
  },
  {
   "cell_type": "code",
   "execution_count": 43,
   "id": "660a2426",
   "metadata": {},
   "outputs": [],
   "source": [
    "# 여러개의 레코드를 한꺼번에 추가하기\n",
    "datas = (\n",
    "    ('A0002', '에어컨 30평형', 2000000),\n",
    "    ('A0003', '최신형 스마트폰', 1000000),\n",
    "    ('A0004', '최신형 노트북', 500000)\n",
    ")\n",
    "\n",
    "cur.executemany(insert_sql, datas);"
   ]
  },
  {
   "cell_type": "markdown",
   "id": "aed00301",
   "metadata": {},
   "source": [
    "## 데이터 읽기 (Read)"
   ]
  },
  {
   "cell_type": "code",
   "execution_count": 45,
   "id": "94ab0a16",
   "metadata": {},
   "outputs": [
    {
     "data": {
      "text/plain": [
       "4"
      ]
     },
     "execution_count": 45,
     "metadata": {},
     "output_type": "execute_result"
    }
   ],
   "source": [
    "# select 문\n",
    "select_sql1 = \"SELECT * FROM items\"\n",
    "cur.execute(select_sql1)"
   ]
  },
  {
   "cell_type": "code",
   "execution_count": null,
   "id": "c69a3a2c",
   "metadata": {},
   "outputs": [],
   "source": [
    "# DB 조회한 결과를 확인하기 위해서 fetch 수행\n",
    "rows = cur.fetchall()"
   ]
  },
  {
   "cell_type": "code",
   "execution_count": 47,
   "id": "799afea1",
   "metadata": {},
   "outputs": [
    {
     "data": {
      "text/plain": [
       "((1, 'A001', 'TV', 1000000),\n",
       " (2, 'A0002', '에어컨 30평형', 2000000),\n",
       " (3, 'A0003', '최신형 스마트폰', 1000000),\n",
       " (4, 'A0004', '최신형 노트북', 500000))"
      ]
     },
     "execution_count": 47,
     "metadata": {},
     "output_type": "execute_result"
    }
   ],
   "source": [
    "rows"
   ]
  },
  {
   "cell_type": "code",
   "execution_count": 50,
   "id": "5a93f3e0",
   "metadata": {},
   "outputs": [
    {
     "name": "stdout",
     "output_type": "stream",
     "text": [
      "1 - ('A001', 'TV', 1000000)\n",
      "2 - ('A0002', '에어컨 30평형', 2000000)\n",
      "3 - ('A0003', '최신형 스마트폰', 1000000)\n",
      "4 - ('A0004', '최신형 노트북', 500000)\n"
     ]
    }
   ],
   "source": [
    "for idx, row in enumerate(list(rows)):\n",
    "    print(f\"{idx+1} - {row[1:]}\")"
   ]
  },
  {
   "cell_type": "code",
   "execution_count": 55,
   "id": "e63d685f",
   "metadata": {},
   "outputs": [
    {
     "data": {
      "text/plain": [
       "2"
      ]
     },
     "execution_count": 55,
     "metadata": {},
     "output_type": "execute_result"
    }
   ],
   "source": [
    "# select 문, 2개의 레코드 서버에서 가져오는거야\n",
    "select_sql1 = \"SELECT * FROM items LIMIT 2\"\n",
    "cur.execute(select_sql1)"
   ]
  },
  {
   "cell_type": "code",
   "execution_count": 56,
   "id": "3bc6cb69",
   "metadata": {},
   "outputs": [
    {
     "data": {
      "text/plain": [
       "((1, 'A001', 'TV', 1000000), (2, 'A0002', '에어컨 30평형', 2000000))"
      ]
     },
     "execution_count": 56,
     "metadata": {},
     "output_type": "execute_result"
    }
   ],
   "source": [
    "rows = cur.fetchall()\n",
    "rows"
   ]
  },
  {
   "cell_type": "code",
   "execution_count": 57,
   "id": "de0c23f2",
   "metadata": {},
   "outputs": [
    {
     "data": {
      "text/plain": [
       "()"
      ]
     },
     "execution_count": 57,
     "metadata": {},
     "output_type": "execute_result"
    }
   ],
   "source": [
    "# fetchall은 한번 수행하면 데이터가 비워짐.\n",
    "# 위에서 fetchall()을 실행했기 때문에 빈결과가 나옴\n",
    "cur.fetchall()"
   ]
  },
  {
   "cell_type": "markdown",
   "id": "dfcd5652",
   "metadata": {},
   "source": [
    "## 수정 (Update)"
   ]
  },
  {
   "cell_type": "code",
   "execution_count": 68,
   "id": "b75c426d",
   "metadata": {},
   "outputs": [
    {
     "data": {
      "text/plain": [
       "1"
      ]
     },
     "execution_count": 68,
     "metadata": {},
     "output_type": "execute_result"
    }
   ],
   "source": [
    "update_sql = \"\"\"\n",
    "UPDATE items\n",
    "SET price = %s\n",
    "WHERE code = %s\n",
    "\"\"\"\n",
    "\n",
    "price = 1500000\n",
    "code = 'A0001'\n",
    "cur.execute(update_sql, (price, code))"
   ]
  },
  {
   "cell_type": "code",
   "execution_count": 69,
   "id": "3e407136",
   "metadata": {},
   "outputs": [],
   "source": [
    "conn.commit()"
   ]
  },
  {
   "cell_type": "code",
   "execution_count": 66,
   "id": "720df0f1",
   "metadata": {},
   "outputs": [
    {
     "data": {
      "text/plain": [
       "1"
      ]
     },
     "execution_count": 66,
     "metadata": {},
     "output_type": "execute_result"
    }
   ],
   "source": [
    "# id = 2인 레코드의 price를 2500000으로 변경\n",
    "update_sql = \"\"\"\n",
    "UPDATE items\n",
    "SET price = %s\n",
    "WHERE id = %s\n",
    "\"\"\"\n",
    "\n",
    "price = 2500000\n",
    "id = 2\n",
    "cur.execute(update_sql, (price, id))\n",
    "conn.commit()"
   ]
  },
  {
   "cell_type": "markdown",
   "id": "7f27e64a",
   "metadata": {},
   "source": [
    "## 데이터 삭제(Delete)"
   ]
  },
  {
   "cell_type": "code",
   "execution_count": null,
   "id": "4ed1a555",
   "metadata": {},
   "outputs": [],
   "source": [
    "delete_sql = \"\"\"\n",
    "DELETE FROM items\n",
    "WHERE code = %s\n",
    "\"\"\"\n",
    "cur.execute(delete_sql,'A0003');    # %s가 1개 일경우, 튜플 생략 가능\n"
   ]
  },
  {
   "cell_type": "code",
   "execution_count": 74,
   "id": "e30eeaf1",
   "metadata": {},
   "outputs": [],
   "source": [
    "conn.commit()"
   ]
  },
  {
   "cell_type": "markdown",
   "id": "893d6012",
   "metadata": {},
   "source": [
    "# 4. commit, rollback 실행\n",
    "- insert, update, delete sql을 실행했을 경우는 반드시 실행해야 DB에 반영됨"
   ]
  },
  {
   "cell_type": "code",
   "execution_count": 79,
   "id": "f6495d12",
   "metadata": {},
   "outputs": [
    {
     "data": {
      "text/plain": [
       "1"
      ]
     },
     "execution_count": 79,
     "metadata": {},
     "output_type": "execute_result"
    }
   ],
   "source": [
    "# 데이터 생성하기\n",
    "# code A0005, name 로봇청소기,price 1000000\n",
    "\n",
    "INSERT_SQL = \"INSERT INTO items(code, name, price) VALUES (%s, %s, %s);\"\n",
    "\n",
    "cur.execute(INSERT_SQL, ('A0006', '식기세척기', 2000000))\n"
   ]
  },
  {
   "cell_type": "code",
   "execution_count": null,
   "id": "d240984a",
   "metadata": {},
   "outputs": [],
   "source": [
    "# DB에 가장 마지막에 반영한 이후 시점까지 되돌리기\n",
    "conn.rollback()\n"
   ]
  },
  {
   "cell_type": "code",
   "execution_count": 80,
   "id": "600f852d",
   "metadata": {},
   "outputs": [
    {
     "data": {
      "text/plain": [
       "5"
      ]
     },
     "execution_count": 80,
     "metadata": {},
     "output_type": "execute_result"
    }
   ],
   "source": [
    "# 조회, rollback안하고 해봐 그럼 식기세척기도 나와.\n",
    "select_sql1 = \"SELECT * FROM items\"\n",
    "cur.execute(select_sql1)\n",
    "rows = cur.fetchall()\n",
    "rows"
   ]
  },
  {
   "cell_type": "markdown",
   "id": "e612aea7",
   "metadata": {},
   "source": [
    "# 5. DB close()\n",
    "- 데이터 처리를 위해 연결한 DB 연결 자원을 반환함."
   ]
  },
  {
   "cell_type": "code",
   "execution_count": null,
   "id": "d5f68e74",
   "metadata": {},
   "outputs": [],
   "source": [
    "conn.close()"
   ]
  }
 ],
 "metadata": {
  "kernelspec": {
   "display_name": "llm_env",
   "language": "python",
   "name": "python3"
  },
  "language_info": {
   "codemirror_mode": {
    "name": "ipython",
    "version": 3
   },
   "file_extension": ".py",
   "mimetype": "text/x-python",
   "name": "python",
   "nbconvert_exporter": "python",
   "pygments_lexer": "ipython3",
   "version": "3.10.19"
  }
 },
 "nbformat": 4,
 "nbformat_minor": 5
}
