{
 "cells": [
  {
   "cell_type": "code",
   "execution_count": 1,
   "id": "deb7044c",
   "metadata": {},
   "outputs": [],
   "source": [
    "import random\n",
    "import time\n",
    "import pymysql\n",
    "import datetime\n",
    "from dotenv import load_dotenv\n",
    "import os\n"
   ]
  },
  {
   "cell_type": "code",
   "execution_count": null,
   "id": "346671ee",
   "metadata": {},
   "outputs": [],
   "source": [
    "\n",
    "HOST = os.getenv(\"HOST\")\n",
    "PORT = int(os.getenv(\"PORT\"))\n",
    "USER = os.getenv(\"USER\")\n",
    "PASSWD = os.getenv(\"PASSWD\")\n",
    "DB1 = os.getenv(\"DB1\")\n",
    "DB2 = os.getenv(\"DB2\")"
   ]
  }
 ],
 "metadata": {
  "kernelspec": {
   "display_name": "llm_env",
   "language": "python",
   "name": "python3"
  },
  "language_info": {
   "codemirror_mode": {
    "name": "ipython",
    "version": 3
   },
   "file_extension": ".py",
   "mimetype": "text/x-python",
   "name": "python",
   "nbconvert_exporter": "python",
   "pygments_lexer": "ipython3",
   "version": "3.10.19"
  }
 },
 "nbformat": 4,
 "nbformat_minor": 5
}
